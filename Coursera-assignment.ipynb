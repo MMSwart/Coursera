{
  "metadata": {
    "kernelspec": {
      "name": "python",
      "display_name": "Python (Pyodide)",
      "language": "python"
    },
    "language_info": {
      "codemirror_mode": {
        "name": "python",
        "version": 3
      },
      "file_extension": ".py",
      "mimetype": "text/x-python",
      "name": "python",
      "nbconvert_exporter": "python",
      "pygments_lexer": "ipython3",
      "version": "3.8"
    }
  },
  "nbformat_minor": 4,
  "nbformat": 4,
  "cells": [
    {
      "cell_type": "markdown",
      "source": "# **Assignment for coursera**",
      "metadata": {}
    },
    {
      "cell_type": "markdown",
      "source": "This is an assignment for the course \"Tools for datascience\" in coursera.",
      "metadata": {}
    },
    {
      "cell_type": "markdown",
      "source": "List of data science languages:\n1. Python\n2. Julia\n3. R\n4. SQL\n5. Etc.",
      "metadata": {}
    },
    {
      "cell_type": "markdown",
      "source": "List of data science libraries:\n* Pandas\n* Plotly\n* TensorFlow",
      "metadata": {}
    },
    {
      "cell_type": "markdown",
      "source": "Data science tools:\n\nTool | Belongs to language\n---|---\nggplot | R\nJupyterlite Notebook | R, Python\nAnaconda | .....",
      "metadata": {}
    },
    {
      "cell_type": "markdown",
      "source": "Arithmetic expression examples are:\n2+2 and 3/6",
      "metadata": {}
    },
    {
      "cell_type": "code",
      "source": "2+2",
      "metadata": {
        "trusted": true
      },
      "outputs": [
        {
          "execution_count": 5,
          "output_type": "execute_result",
          "data": {
            "text/plain": "4"
          },
          "metadata": {}
        }
      ],
      "execution_count": 5
    },
    {
      "cell_type": "code",
      "source": "3/6",
      "metadata": {
        "trusted": true
      },
      "outputs": [
        {
          "execution_count": 3,
          "output_type": "execute_result",
          "data": {
            "text/plain": "0.5"
          },
          "metadata": {}
        }
      ],
      "execution_count": 3
    },
    {
      "cell_type": "markdown",
      "source": "Below, there is a code block to convert minutes to hours. The first argument can be changed to the desired number of minutes.",
      "metadata": {}
    },
    {
      "cell_type": "code",
      "source": "# To convert minutes to hours, for example 90 minutes\n90/60",
      "metadata": {
        "trusted": true
      },
      "outputs": [
        {
          "execution_count": 6,
          "output_type": "execute_result",
          "data": {
            "text/plain": "1.5"
          },
          "metadata": {}
        }
      ],
      "execution_count": 6
    },
    {
      "cell_type": "markdown",
      "source": "List of objectives:\n* Get to know data science tools\n* Get to know github\n* Get to know Python\n* Get to know R",
      "metadata": {}
    },
    {
      "cell_type": "markdown",
      "source": "This notebook was created by: Myrthe",
      "metadata": {}
    }
  ]
}